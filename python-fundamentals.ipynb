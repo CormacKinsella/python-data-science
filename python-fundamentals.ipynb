{
 "cells": [
  {
   "cell_type": "markdown",
   "metadata": {},
   "source": [
    "# Python fundamentals\n",
    "\n",
    "## Setting up the environment in Ubuntu\n",
    "\n",
    "### VSCode, Jupyter, and conda\n",
    "\n",
    "- We'll use the Python extension in VSCode, which includes Jupyter notebooks\n",
    "\n",
    "- Jupyter notebooks interprets files with the IPython notebook extension \".ipynb\", allowing markdown and code cells to be built up\n",
    "\n",
    "- For Python packages themselves, installing Anaconda is an option, but my preference is to use Miniconda and then build Conda environments for specific tasks. This keeps user control over the packages and versions, limits space usage, minimises software conflicts, and enables portability. It also teaches me more about what's going on (by solving issues!)\n",
    "\n",
    "- We'll set up a general \"Data science with Python\" conda environment, and add to it over time (and/or generate additional specialist environments)\n",
    "\n",
    "```\n",
    "conda env create -f python-data-science.yml\n",
    "conda activate python-data-science\n",
    "```\n",
    "\n",
    "- I initially added only python3, numpy, and pandas to the yml\n",
    "\n",
    "- With python3 installed, I then set the Jupyter kernel to point at python inside the conda env (using the VSCode interface)\n",
    "\n",
    "- Ran a hello world test (which failed), and as a result added the ipykernel package so that Jupyter can execute code `conda install -c conda-forge ipykernel`"
   ]
  },
  {
   "cell_type": "code",
   "execution_count": 24,
   "metadata": {},
   "outputs": [
    {
     "name": "stdout",
     "output_type": "stream",
     "text": [
      "hello world, I was in double quotes\n",
      "hello world, I was in single quotes\n"
     ]
    }
   ],
   "source": [
    "# Hello world test\n",
    "\n",
    "print (\"hello world, I was in double quotes\")\n",
    "\n",
    "# Note that quotation marks around strings can be single or double, no difference\n",
    "print ('hello world, I was in single quotes')"
   ]
  },
  {
   "cell_type": "code",
   "execution_count": 25,
   "metadata": {},
   "outputs": [
    {
     "data": {
      "text/plain": [
       "'3.11.4'"
      ]
     },
     "execution_count": 25,
     "metadata": {},
     "output_type": "execute_result"
    }
   ],
   "source": [
    "# Sanity check on which python version is being used by the interpreter\n",
    "\n",
    "from platform import python_version\n",
    "python_version()\n",
    "\n",
    "# Apparently this is a global function, and doesn't really require import"
   ]
  },
  {
   "cell_type": "markdown",
   "metadata": {},
   "source": [
    "### Git repository set up\n",
    "\n",
    "```\n",
    "git init -b main\n",
    "git add README.md python-fundamentals.ipynb\n",
    "git co -m \"Initial commit\"\n",
    "gh repo create\n",
    "```"
   ]
  },
  {
   "cell_type": "markdown",
   "metadata": {},
   "source": [
    "### Add Jupyter HTML export functionality (for PDF, I'll use HTML print to PDF)\n",
    "\n",
    "- Attempted an HTML export, assuming we don't have all the packages: nbconvert was missing\n",
    "```\n",
    "conda install -c anaconda nbconvert\n",
    "```"
   ]
  },
  {
   "cell_type": "markdown",
   "metadata": {},
   "source": [
    "## Fundamentals of python 1. Background\n",
    "\n",
    "- Python is a high-level language (high abstraction from the machine, and machine specific functionings)\n",
    "- Hence it's quicker to pickup: it uses natural language and focuses on readability\n",
    "- \"Batteries included language\" - i.e., large stdlib, standard library (pre-written code modules, functions, classes, methods, tools - that come with the language). E.g., the module \"platform\" that we used above is in the stdlib.\n",
    "- Follows rules of syntax, which will have an impact on how it runs, or if it runs, e.g.:"
   ]
  },
  {
   "cell_type": "code",
   "execution_count": null,
   "metadata": {},
   "outputs": [],
   "source": []
  },
  {
   "cell_type": "markdown",
   "metadata": {},
   "source": [
    "## Fundamentals of python 2. Python data structures & variables\n",
    "\n",
    "### Lists\n",
    "\n",
    "- ordered, mutable, redundant collections\n",
    "- can contain multiple data types (e.g., integers, booleans, floats, or strings)\n",
    "- defined by square brackets []\n",
    "- being ordered, each element has a fixed position (defined by a 0-based numerical index)"
   ]
  },
  {
   "cell_type": "code",
   "execution_count": 26,
   "metadata": {},
   "outputs": [
    {
     "name": "stdout",
     "output_type": "stream",
     "text": [
      "['banana', 'apple', 'orange', 'orange']\n"
     ]
    }
   ],
   "source": [
    "# List with four string elements, two redundant, stored in a variable\n",
    "\n",
    "fruit_list = ['banana', 'apple', 'orange', 'orange']\n",
    "print(fruit_list)"
   ]
  },
  {
   "cell_type": "code",
   "execution_count": 27,
   "metadata": {},
   "outputs": [
    {
     "name": "stdout",
     "output_type": "stream",
     "text": [
      "banana\n",
      "apple\n",
      "orange\n",
      "orange\n"
     ]
    }
   ],
   "source": [
    "# Access index positions (0-based) - elements are ordered and can be redundant (e.g., orange)\n",
    "\n",
    "print(fruit_list[0])\n",
    "print(fruit_list[1])\n",
    "print(fruit_list[2])\n",
    "print(fruit_list[3])"
   ]
  },
  {
   "cell_type": "code",
   "execution_count": 28,
   "metadata": {},
   "outputs": [
    {
     "name": "stdout",
     "output_type": "stream",
     "text": [
      "['banana', 'apple', 'grape', 'orange']\n",
      "['banana', 'apple', 'orange', 'orange']\n"
     ]
    }
   ],
   "source": [
    "# List elements are mutable\n",
    "\n",
    "# First let's make a copy of the list variable using the python method \".copy\"\n",
    "\n",
    "# We could do:\n",
    "\n",
    "# modified_fruit_list = fruit_list\n",
    "\n",
    "# but it would mean modified_fruit_list will refer to the same variable, so both will be edited\n",
    "\n",
    "# So we make a new one with the method\n",
    "\n",
    "modified_fruit_list = fruit_list.copy()\n",
    "\n",
    "# Now we can edit that one without touching the first\n",
    "\n",
    "modified_fruit_list[2] = 'grape'\n",
    "\n",
    "print(modified_fruit_list)\n",
    "print(fruit_list)"
   ]
  },
  {
   "cell_type": "markdown",
   "metadata": {},
   "source": []
  },
  {
   "cell_type": "markdown",
   "metadata": {},
   "source": []
  },
  {
   "cell_type": "markdown",
   "metadata": {},
   "source": [
    "## Python methods\n",
    "\n",
    "- We've used a Python method before, \".copy\": `modified_fruit_list = fruit_list.copy()`\n",
    "\n",
    "- You can use the built-in dir() function to get a list of attributes and methods available for an object, including modules, classes, and instances.\n",
    "\n",
    "- So below we'll look at that using platform, the module we imported from previously"
   ]
  },
  {
   "cell_type": "markdown",
   "metadata": {},
   "source": [
    "##### "
   ]
  }
 ],
 "metadata": {
  "kernelspec": {
   "display_name": "Python 3",
   "language": "python",
   "name": "python3"
  },
  "language_info": {
   "codemirror_mode": {
    "name": "ipython",
    "version": 3
   },
   "file_extension": ".py",
   "mimetype": "text/x-python",
   "name": "python",
   "nbconvert_exporter": "python",
   "pygments_lexer": "ipython3",
   "version": "3.11.4"
  },
  "orig_nbformat": 4
 },
 "nbformat": 4,
 "nbformat_minor": 2
}
