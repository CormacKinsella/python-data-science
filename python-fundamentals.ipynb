{
 "cells": [
  {
   "cell_type": "markdown",
   "metadata": {},
   "source": [
    "# Python fundamentals\n",
    "\n",
    "## Setting up the environment in Ubuntu\n",
    "\n",
    "### VSCode, Jupyter, and conda\n",
    "\n",
    "- We'll use the Python extension in VSCode, which includes Jupyter notebooks\n",
    "\n",
    "- Jupyter notebooks interprets files with the IPython notebook extension \".ipynb\", allowing markdown and code cells to be built up and run interactively\n",
    "\n",
    "- For Python packages themselves, installing Anaconda is an option (covers many packages). \n",
    "\n",
    "- My preference is to use Miniconda instead, and build up Conda environments for specific tasks. This keeps user control over the packages installed and their versions, limits space usage, minimises software conflicts, and enables portability. It also teaches more about what's going on (by solving issues!)\n",
    "\n",
    "- We'll set up a general \"Data science with Python\" conda environment, and generate additional specialist environments over time as needed\n",
    "\n",
    "```\n",
    "conda env create -f python-data-science.yml\n",
    "conda activate python-data-science\n",
    "```\n",
    "\n",
    "- I initially added only python3, numpy, and pandas to the yml, and added further software over time\n",
    "\n",
    "- With Python3 installed, you need to set the Jupyter kernel to point at python inside the conda env (using the VSCode interface)\n",
    "\n",
    "- When I first ran a hello world test it failed, and as a result I had to add the \"ipykernel\" package to the env.yml so that Jupyter can execute code `conda install -c conda-forge ipykernel`"
   ]
  },
  {
   "cell_type": "code",
   "execution_count": 8,
   "metadata": {},
   "outputs": [
    {
     "name": "stdout",
     "output_type": "stream",
     "text": [
      "hello world, I was in double quotes\n",
      "hello world, I was in single quotes\n"
     ]
    }
   ],
   "source": [
    "# Test the environment is able to run Python by hitting the code execution button at left (Windows: Ctrl+Alt+Enter)\n",
    "\n",
    "# Hello world test\n",
    "print (\"hello world, I was in double quotes\")\n",
    "\n",
    "# Note that quotation marks around strings can be single or double, no difference\n",
    "print ('hello world, I was in single quotes')"
   ]
  },
  {
   "cell_type": "code",
   "execution_count": 9,
   "metadata": {},
   "outputs": [
    {
     "name": "stdout",
     "output_type": "stream",
     "text": [
      "3.7.15\n",
      "\n",
      "  - python=3.7.15=h7a1cb2a_1\n"
     ]
    }
   ],
   "source": [
    "# Sanity check on which python version is being used by the interpreter\n",
    "\n",
    "from platform import python_version\n",
    "print(python_version())\n",
    "print()\n",
    "\n",
    "# This should match the Python version in the env.yml\n",
    "!grep \"python=3\" python-data-science.yml"
   ]
  },
  {
   "cell_type": "markdown",
   "metadata": {},
   "source": [
    "### How to set up a Git repository\n",
    "\n",
    "As a user of this repo you only need to clone it. If you want to set up your own from local, navigate to a new folder and do the following:\n",
    "\n",
    "```\n",
    "git init -b main\n",
    "git add README.md\n",
    "git co -m \"Initial commit\"\n",
    "gh repo create\n",
    "```\n",
    "\n",
    "And follow the gh prompts to set up and push to a remote. "
   ]
  },
  {
   "cell_type": "markdown",
   "metadata": {},
   "source": [
    "### Add Jupyter Notebook export functionality\n",
    "\n",
    "- Attempted an HTML export of the notebook, assuming we don't have all the packages needed: nbconvert was missing\n",
    "\n",
    "```\n",
    "conda install -c anaconda nbconvert\n",
    "```\n",
    "\n",
    "- You can now export HTML notebooks using this environment, then convert to PDF if desired using browser print to PDF functionality"
   ]
  },
  {
   "cell_type": "markdown",
   "metadata": {},
   "source": [
    "## Fundamentals of python 1. Background\n",
    "\n",
    "- Python is a high-level language (high abstraction from the machine, and machine specific commands)\n",
    "- Hence it's quicker to pickup: it uses natural language and focuses on readability\n",
    "- \"Batteries included language\" - i.e., large stdlib - or standard library (pre-written code modules, functions, classes, methods, tools - that come with the language). E.g., the module \"platform\" that we used above is from the stdlib\n",
    "- Follows rules of syntax, which will have an impact on how it runs, or if it runs, e.g. the following code works:"
   ]
  },
  {
   "cell_type": "code",
   "execution_count": 10,
   "metadata": {},
   "outputs": [
    {
     "name": "stdout",
     "output_type": "stream",
     "text": [
      "Total length: 24\n",
      "Current index value of i: 0 1-based position: 1\n",
      "Substring: The \n",
      "Current index value of i: 4 1-based position: 5\n",
      "Substring: gard\n",
      "Current index value of i: 8 1-based position: 9\n",
      "Substring: ens \n",
      "Current index value of i: 12 1-based position: 13\n",
      "Substring: are \n",
      "Current index value of i: 16 1-based position: 17\n",
      "Substring: wate\n",
      "Current index value of i: 20 1-based position: 21\n",
      "Substring: red!\n"
     ]
    }
   ],
   "source": [
    "# Make a string\n",
    "my_string = \"The gardens are watered!\"\n",
    "\n",
    "# Check the length:\n",
    "length = len(my_string)\n",
    "print ('Total length:', length)\n",
    "\n",
    "# Now make a basic for loop, start at index 0 to the end of the string (length). Move in steps of 4 and print i.\n",
    "# Out of interest, to actually look at the underlying letters at each i iteration, we can use slice notation.\n",
    "# [i:i+4] (non-inclusive of the last)\n",
    "\n",
    "for i in range(0,length,4):\n",
    "    print ('Current index value of i:', i, '1-based position:', i+1)\n",
    "    substring = my_string [i:i+4]\n",
    "    print (\"Substring:\", substring)\n",
    "\n",
    "# The last index printed is 20, which refers to position 21. \n",
    "# The next step of 4 would go to position 25, which does not exist.\n"
   ]
  },
  {
   "cell_type": "code",
   "execution_count": 11,
   "metadata": {},
   "outputs": [
    {
     "ename": "IndentationError",
     "evalue": "expected an indented block (<ipython-input-11-24b076e88096>, line 7)",
     "output_type": "error",
     "traceback": [
      "\u001b[0;36m  File \u001b[0;32m\"<ipython-input-11-24b076e88096>\"\u001b[0;36m, line \u001b[0;32m7\u001b[0m\n\u001b[0;31m    print ('Current index value of i:', i, '1-based position:', i+1)\u001b[0m\n\u001b[0m        ^\u001b[0m\n\u001b[0;31mIndentationError\u001b[0m\u001b[0;31m:\u001b[0m expected an indented block\n"
     ]
    }
   ],
   "source": [
    "# Whereas here it will not run - only due to lack of indentation:\n",
    "\n",
    "my_string = \"The gardens are watered!\"\n",
    "length = len(my_string)\n",
    "print ('Total length:', length)\n",
    "for i in range(0,length,4):\n",
    "print ('Current index value of i:', i, '1-based position:', i+1)"
   ]
  },
  {
   "cell_type": "markdown",
   "metadata": {},
   "source": [
    "## Fundamentals of python 2. Data types, basic operations, & variables\n",
    "\n",
    "- Below we'll see and work with basic data types (integers, bools, floats, strings)\n",
    "- Arithmetic operation syntax\n",
    "- Variables\n",
    "- Comparison operators (greater, less than, equal to, etc.)\n",
    "- Logical operators (and, or, not)\n",
    "- Control structures"
   ]
  },
  {
   "cell_type": "code",
   "execution_count": 12,
   "metadata": {},
   "outputs": [
    {
     "data": {
      "text/plain": [
       "18"
      ]
     },
     "execution_count": 12,
     "metadata": {},
     "output_type": "execute_result"
    }
   ],
   "source": [
    "# Basic operations with integers, can be run directly, but if you expect to always see them on screen, use print()\n",
    "7+11"
   ]
  },
  {
   "cell_type": "code",
   "execution_count": 13,
   "metadata": {},
   "outputs": [
    {
     "name": "stdout",
     "output_type": "stream",
     "text": [
      "18\n",
      "4\n",
      "36\n",
      "1.0\n",
      "\n",
      "7\n",
      "gherkin\n",
      "7 gherkin\n",
      "\n",
      "1000\n",
      "\n",
      "0\n",
      "2\n",
      "\n",
      "My investment would be worth: 2593.7424601000025\n",
      "\n",
      "BMI: 24.049343594386603\n",
      "Return: 2593.7424601000025\n",
      "\n",
      "Integers will be added: 6\n",
      "Strings will be concatenated: Camel\n",
      "\n",
      "<class 'int'>\n",
      "<class 'str'>\n",
      "<class 'float'>\n",
      "<class 'bool'>\n"
     ]
    }
   ],
   "source": [
    "# In an interactive environment, I will only see the last output if I do multiple direct operations.\n",
    "# Use print to guarentee an output:\n",
    "\n",
    "7+1  # Output will not appear \n",
    "\n",
    "# Arithmetic operations\n",
    "\n",
    "print(7+11)\n",
    "print(5-1)\n",
    "print(6*6)\n",
    "print (10/10)\n",
    "print() # Output an empty line\n",
    "\n",
    "# Chain commands using semi-colons. Include within same print command using comma. \n",
    "# Different types (e.g. strings and integers) can be combined\n",
    "\n",
    "print(7); print (\"gherkin\")\n",
    "print(7, \"gherkin\")\n",
    "print()\n",
    "\n",
    "# Base/exponent syntax\n",
    "\n",
    "print(10**3)\n",
    "print()\n",
    "\n",
    "# Modulo syntax - returns remainder of a division (left / right)\n",
    "\n",
    "print (6%6)\n",
    "print (6%4)\n",
    "print()\n",
    "\n",
    "# Compound investment on 1000 GBP, 10% return p/a, held for 10 years\n",
    "print (\"My investment would be worth:\", 1000*1.1**10)\n",
    "print ()\n",
    "\n",
    "# Working with variables\n",
    "height = 1.88\n",
    "weight = 85\n",
    "BMI = weight/ (height**2)\n",
    "print (\"BMI:\", BMI)\n",
    "savings = 1000\n",
    "return_rate = 1.1\n",
    "years = 10\n",
    "result = savings*return_rate**years\n",
    "print (\"Return:\", result)\n",
    "print ()\n",
    "\n",
    "# Above we've seen strings and integers\n",
    "# Type influences how operations work\n",
    "\n",
    "print (\"Integers will be added:\", 2+4)\n",
    "print (\"Strings will be concatenated:\", \"Cam\"+\"el\")\n",
    "print()\n",
    "\n",
    "# To check type, use type()\n",
    "# Floats - real number with floating point (decimal)\n",
    "# Bools - yes/no, true/false, 1/0\n",
    "\n",
    "print(type(1))\n",
    "print(type(\"gherkin\"))\n",
    "print(type(1.782))\n",
    "print(type(True))"
   ]
  },
  {
   "cell_type": "code",
   "execution_count": 14,
   "metadata": {},
   "outputs": [
    {
     "name": "stdout",
     "output_type": "stream",
     "text": [
      "2.8\n",
      "0\n",
      "1\n",
      "\n",
      "3.1\n",
      "\n",
      "5.1415926\n",
      "\n",
      "False\n",
      "False\n",
      "True\n",
      "False\n",
      "True\n",
      "True\n",
      "True\n",
      "\n",
      "True\n",
      "False\n",
      "\n",
      "True\n",
      "False\n",
      "False\n"
     ]
    }
   ],
   "source": [
    "# Exploring addition behaviour with floats & bools\n",
    "\n",
    "print (1.1 + 1.7)\n",
    "print(False + False) # Two wrongs don't make a right\n",
    "print(True + False) # Got to take the moral high ground\n",
    "print ()\n",
    "\n",
    "# Some type mixing is ok, but not others\n",
    "print (1.1+2)\n",
    "print ()\n",
    "\n",
    "# Type conversion is done using\n",
    "# str(), int(), float(), bool()\n",
    "pi_string = \"3.1415926\"\n",
    "print(float(pi_string) + 2)\n",
    "print()\n",
    "\n",
    "# Comparison operators - result will be a boolean\n",
    "\n",
    "print(2>5) # Greater than\n",
    "print(5<5) # Less than\n",
    "print(5<=5) # Less than or equal\n",
    "print(77>=567) # Greater than or equal\n",
    "print(10==10) # Equals\n",
    "print (True!=False) # Does not equal\n",
    "print ((10 * 10) > 99) # Include arithmetic\n",
    "print ()\n",
    "\n",
    "# On strings\n",
    "print (\"a\"<\"b\") # Alphabetically treated\n",
    "print (\"Python\" == \"python\") # Case sensitive\n",
    "print ()\n",
    "\n",
    "# Logical operators / boolean operators (and, or, not)\n",
    "y = 10\n",
    "x = 5\n",
    "z = 2\n",
    "print (y > x and x > z)\n",
    "print (x < z or x > y)\n",
    "print (not True) # not negates a bool"
   ]
  },
  {
   "cell_type": "code",
   "execution_count": 15,
   "metadata": {},
   "outputs": [
    {
     "name": "stdout",
     "output_type": "stream",
     "text": [
      "one\n",
      "two\n",
      "three\n",
      "0\n",
      "1\n",
      "2\n",
      "Limit reached\n",
      "Condition not met\n",
      "Hit\n"
     ]
    }
   ],
   "source": [
    "# Control structures\n",
    "\n",
    "# For loops\n",
    "\n",
    "for i in [\"one\", \"two\", \"three\"]:\n",
    "    print(i)\n",
    "\n",
    "# While loops\n",
    "\n",
    "counter = 0\n",
    "non_inclusive_limit = 3\n",
    "\n",
    "while counter < non_inclusive_limit:\n",
    "    print(counter)\n",
    "    counter += 1\n",
    "\n",
    "# Conditional statements: if\n",
    "\n",
    "if counter == 3:\n",
    "    print(\"Limit reached\") \n",
    "\n",
    "# Conditional statements: else\n",
    "\n",
    "if counter == 4:\n",
    "    print(\"Condition met\")\n",
    "else:\n",
    "    print(\"Condition not met\")\n",
    "\n",
    "# Conditional statements: elif\n",
    "\n",
    "if counter == 2:\n",
    "    print (\"Not hit\")\n",
    "elif counter == 3:\n",
    "    print (\"Hit\")\n"
   ]
  },
  {
   "cell_type": "markdown",
   "metadata": {},
   "source": [
    "### More on loop control / control flow\n",
    "\n",
    "- Break out of the looping once condition met (final loops won't be done)\n",
    "\n",
    "`break`\n",
    "\n",
    "- Skip remainder of current iteration\n",
    "\n",
    "`continue`\n",
    "\n",
    "- placeholder that does nothing (e.g., placeholder code) \n",
    "\n",
    "`pass`\n",
    "\n",
    "- exit function returning a value\n",
    "\n",
    "`return`"
   ]
  },
  {
   "cell_type": "markdown",
   "metadata": {},
   "source": [
    "## Fundamentals of python 3. Python data structures, containers\n",
    "\n",
    "### Data structure vs container background\n",
    "\n",
    "- Data structures define layout and relationship between data elements + operations that can be done on them\n",
    "- Quite general term, encompasses basic data types (e.g., integers) and complex ones (e.g., arrays)\n",
    "- Containers on the other hand refers to specific data structures that hold/organise multiple values/objects\n",
    "- These would be for grouping data coherently, e.g., lists, tuples, and dictionaries\n",
    "- Each has different operations, rules, and characteristics that make them suitable for different things"
   ]
  },
  {
   "cell_type": "markdown",
   "metadata": {},
   "source": [
    "### Data structures: Lists\n",
    "\n",
    "- ordered, mutable, redundant collections\n",
    "- can contain multiple data types (e.g., integers, booleans, floats, or strings)\n",
    "- defined by square brackets []\n",
    "- being ordered, each element has a fixed position (defined by a 0-based numerical index)"
   ]
  },
  {
   "cell_type": "code",
   "execution_count": 16,
   "metadata": {},
   "outputs": [
    {
     "name": "stdout",
     "output_type": "stream",
     "text": [
      "['banana', 'apple', 'orange', 'orange']\n"
     ]
    }
   ],
   "source": [
    "# List with four string elements, two redundant, stored in a variable\n",
    "\n",
    "fruit_list = ['banana', 'apple', 'orange', 'orange']\n",
    "print(fruit_list)"
   ]
  },
  {
   "cell_type": "code",
   "execution_count": 17,
   "metadata": {},
   "outputs": [
    {
     "name": "stdout",
     "output_type": "stream",
     "text": [
      "banana\n",
      "apple\n",
      "orange\n",
      "orange\n"
     ]
    }
   ],
   "source": [
    "# Access index positions (0-based)\n",
    "\n",
    "print(fruit_list[0])\n",
    "print(fruit_list[1])\n",
    "print(fruit_list[2])\n",
    "print(fruit_list[3])"
   ]
  },
  {
   "cell_type": "code",
   "execution_count": 18,
   "metadata": {},
   "outputs": [
    {
     "name": "stdout",
     "output_type": "stream",
     "text": [
      "['banana', 'apple', 'grape', 'orange']\n",
      "['banana', 'apple', 'orange', 'orange']\n"
     ]
    }
   ],
   "source": [
    "# List elements are mutable\n",
    "\n",
    "# First let's make a copy of the list variable using the python method \".copy\"\n",
    "\n",
    "# We could do:\n",
    "\n",
    "# modified_fruit_list = fruit_list\n",
    "\n",
    "# but it would mean modified_fruit_list will refer to the original variable, so both will be edited when one is.\n",
    "\n",
    "# So we make a new one with the method\n",
    "\n",
    "modified_fruit_list = fruit_list.copy()\n",
    "\n",
    "# Now we can edit that one without touching the first\n",
    "\n",
    "modified_fruit_list[2] = 'grape'\n",
    "\n",
    "print(modified_fruit_list)\n",
    "print(fruit_list)"
   ]
  },
  {
   "cell_type": "markdown",
   "metadata": {},
   "source": [
    "### Data structures: Tuples\n",
    "- Similar to lists, but immutable. Still ordered and allowing duplicates.\n",
    "- Defined by parentheses\n",
    "- For representing data that is related and should never be modified"
   ]
  },
  {
   "cell_type": "code",
   "execution_count": 22,
   "metadata": {},
   "outputs": [
    {
     "name": "stdout",
     "output_type": "stream",
     "text": [
      "(1, 2, 3, 4, 5)\n",
      "2\n",
      "1\n"
     ]
    },
    {
     "ename": "TypeError",
     "evalue": "'tuple' object does not support item assignment",
     "output_type": "error",
     "traceback": [
      "\u001b[0;31m---------------------------------------------------------------------------\u001b[0m",
      "\u001b[0;31mTypeError\u001b[0m                                 Traceback (most recent call last)",
      "\u001b[0;32m<ipython-input-22-6f8df3de6040>\u001b[0m in \u001b[0;36m<module>\u001b[0;34m\u001b[0m\n\u001b[1;32m     10\u001b[0m \u001b[0;34m\u001b[0m\u001b[0m\n\u001b[1;32m     11\u001b[0m \u001b[0;31m# Immutable\u001b[0m\u001b[0;34m\u001b[0m\u001b[0;34m\u001b[0m\u001b[0;34m\u001b[0m\u001b[0m\n\u001b[0;32m---> 12\u001b[0;31m \u001b[0mmy_tuple\u001b[0m\u001b[0;34m[\u001b[0m\u001b[0;36m1\u001b[0m\u001b[0;34m]\u001b[0m \u001b[0;34m=\u001b[0m \u001b[0;34m\"gherkin\"\u001b[0m\u001b[0;34m\u001b[0m\u001b[0;34m\u001b[0m\u001b[0m\n\u001b[0m",
      "\u001b[0;31mTypeError\u001b[0m: 'tuple' object does not support item assignment"
     ]
    }
   ],
   "source": [
    "my_tuple = (1,2,3,4,5)\n",
    "print (my_tuple)\n",
    "\n",
    "# Ordered\n",
    "print (my_tuple[1])\n",
    "\n",
    "# Variable setting\n",
    "first_element = my_tuple[0]\n",
    "print (first_element)\n",
    "\n",
    "# Immutable\n",
    "my_tuple[1] = \"gherkin\""
   ]
  },
  {
   "cell_type": "markdown",
   "metadata": {},
   "source": [
    "### Data structures: Dictionaries\n",
    "\n",
    "- unordered collections of \"key-value\" pairs\n",
    "- great for rapid lookups, value retrieval using keys\n",
    "- curly brackets {}"
   ]
  },
  {
   "cell_type": "code",
   "execution_count": 23,
   "metadata": {},
   "outputs": [
    {
     "name": "stdout",
     "output_type": "stream",
     "text": [
      "[99, 'None']\n"
     ]
    }
   ],
   "source": [
    "my_dict = {\n",
    "    'ABC': 'abc',\n",
    "    'DEF': 'def', \n",
    "    'Number': 99\n",
    "}\n",
    "\n",
    "list_to_check = [\"Number\", \"Cheese\"]\n",
    "\n",
    "result = []\n",
    "\n",
    "for i in list_to_check:\n",
    "    if i in my_dict:\n",
    "        result.append(my_dict[i])\n",
    "    else:\n",
    "        result.append(\"None\")\n",
    "\n",
    "print (result)"
   ]
  },
  {
   "cell_type": "markdown",
   "metadata": {},
   "source": [
    "### Data structures: Sets\n",
    "\n",
    "- Unordered, unique elements (duplicates will be auto-removed)\n",
    "- Curley brackets {} or set() - but without the other structures that make dictionaries (since these also use {})\n",
    "- useful for membership testing and removing duplicates"
   ]
  },
  {
   "cell_type": "code",
   "execution_count": 24,
   "metadata": {},
   "outputs": [
    {
     "name": "stdout",
     "output_type": "stream",
     "text": [
      "[1, 2, 2, 3, 4, 4, 5, 5]\n",
      "{1, 2, 3, 4, 5}\n"
     ]
    }
   ],
   "source": [
    "my_list = [1, 2, 2, 3, 4, 4, 5, 5]\n",
    "my_set = set(my_list)\n",
    "\n",
    "print(my_list)\n",
    "print(my_set)"
   ]
  },
  {
   "cell_type": "markdown",
   "metadata": {},
   "source": [
    "### Data structures: Strings\n",
    "\n",
    "- Character strings, in 'single' or \"double\" quotes\n",
    "- 0-based indexing\n",
    "- position lookup with [ ]\n",
    "- positive & negative indexing available\n",
    "- slicing [x:y]\n",
    "- built-in functions"
   ]
  },
  {
   "cell_type": "code",
   "execution_count": 27,
   "metadata": {},
   "outputs": [
    {
     "name": "stdout",
     "output_type": "stream",
     "text": [
      "1\n",
      "9\n",
      "8\n",
      "\n",
      "123 sliced out\n",
      "345678\n",
      "\n",
      "Length is: 5\n",
      "hello\n",
      "HELLO\n",
      "Starts with HELL: True\n",
      "Ends with hath no fury: False\n",
      "SHELLO\n",
      "\n",
      "Found TTAA at nucleotide: 20 to 24\n",
      "Found TTAA at nucleotide: 20 to 24\n"
     ]
    }
   ],
   "source": [
    "example_string = \"123456789\"\n",
    "\n",
    "# Accessing position 1 (index 0)\n",
    "print(example_string[0])\n",
    "\n",
    "# Negative indexing, -1 gets the last element\n",
    "print(example_string[-1])\n",
    "print(example_string[-2])\n",
    "print()\n",
    "\n",
    "# Slicing\n",
    "print(example_string[0:3], \"sliced out\") # Non-inclusive of 3rd index\n",
    "print(example_string[2:-1]) # Combine negative/positive indexing\n",
    "print()\n",
    "\n",
    "# Exploring built-in functions for strings\n",
    "uppercase = \"HELLO\"\n",
    "\n",
    "# Length\n",
    "print(\"Length is:\", len(uppercase))\n",
    "\n",
    "# Lower case conversion\n",
    "lowercase = uppercase.lower()\n",
    "print (lowercase)\n",
    "\n",
    "# Upper case conversion\n",
    "print (lowercase.upper())\n",
    "\n",
    "# Starts with\n",
    "print(\"Starts with HELL:\", uppercase.startswith(\"HELL\"))\n",
    "\n",
    "# Ends with\n",
    "print(\"Ends with hath no fury:\", uppercase.endswith(\"HATH NO FURY\"))\n",
    "\n",
    "# Replace\n",
    "print (uppercase.replace(\"HE\", \"SHE\"))\n",
    "print ()\n",
    "\n",
    "# Practicle example, motif searching (TTAA restriction site)\n",
    "nucleotides = \"ATGATGATGCATGAACTGATTAACGATT\"\n",
    "motif = \"TTAA\"\n",
    "for i in range(0,len(nucleotides),1):  # Need to use range and index to get integers for slicing (can't slice a range of string values)\n",
    "    substr = nucleotides[i:i+4]\n",
    "    if substr==motif:\n",
    "        print(\"Found TTAA at nucleotide:\", i+1,\"to\",i+5)\n",
    "\n",
    "# Do the same but using startswith\n",
    "for i in range(len(nucleotides)): # Equivalent to previous, as step size defaults to 1\n",
    "    if nucleotides[i:].startswith(\"TTAA\"): # you can slice string values from a position onward\n",
    "        print(\"Found TTAA at nucleotide:\",i+1,\"to\",i+5)"
   ]
  },
  {
   "cell_type": "markdown",
   "metadata": {},
   "source": [
    "### Data structures: Arrays\n"
   ]
  },
  {
   "cell_type": "markdown",
   "metadata": {},
   "source": [
    "### Data structures: Queues"
   ]
  },
  {
   "cell_type": "markdown",
   "metadata": {},
   "source": [
    "### Data structures: Others to mention not in stdlib\n",
    "\n",
    "- Stacks\n",
    "- Linked lists\n",
    "- Trees\n",
    "- Graphs\n",
    "\n"
   ]
  },
  {
   "cell_type": "markdown",
   "metadata": {},
   "source": [
    "## Fundamentals of python 4. Functions and modules\n",
    "input() function\n",
    "functions in general\n",
    "\n",
    "global, module, etc.\n",
    "\n",
    "scope"
   ]
  },
  {
   "cell_type": "markdown",
   "metadata": {},
   "source": [
    "## Fundamentals of python 5. Object-Oriented Programming (OOP)\n",
    "\n"
   ]
  },
  {
   "cell_type": "markdown",
   "metadata": {},
   "source": [
    "## Fundamentals of python 6. File Handling\n",
    "\n",
    "- for and while loops on files"
   ]
  },
  {
   "cell_type": "markdown",
   "metadata": {},
   "source": [
    "## Fundamentals of python 7. Exception Handling\n",
    "\n",
    "- try\n",
    "- except\n",
    "- finally"
   ]
  },
  {
   "cell_type": "markdown",
   "metadata": {},
   "source": [
    "## Fundamentals of python 8. Debugging and Testing"
   ]
  },
  {
   "cell_type": "markdown",
   "metadata": {},
   "source": [
    "## Fundamentals of python 9. Basic Algorithms and Logic"
   ]
  },
  {
   "cell_type": "markdown",
   "metadata": {},
   "source": [
    "## Fundamentals of python 10. Standard library"
   ]
  },
  {
   "cell_type": "markdown",
   "metadata": {},
   "source": [
    "## Somewhere: Python methods & attributes\n",
    "\n",
    "- We've used a Python method before, \".copy\": `modified_fruit_list = fruit_list.copy()`\n",
    "\n",
    "- You can use the built-in dir() function to get a list of attributes and methods available for an object, including modules, classes, and instances.\n",
    "\n",
    "- So below we'll look at that using platform, the module we imported from previously"
   ]
  },
  {
   "cell_type": "code",
   "execution_count": 5,
   "metadata": {},
   "outputs": [
    {
     "name": "stdout",
     "output_type": "stream",
     "text": [
      "['DEV_NULL', '_UNIXCONFDIR', '_WIN32_CLIENT_RELEASES', '_WIN32_SERVER_RELEASES', '__builtins__', '__cached__', '__copyright__', '__doc__', '__file__', '__loader__', '__name__', '__package__', '__spec__', '__version__', '_comparable_version', '_component_re', '_default_architecture', '_dist_try_harder', '_follow_symlinks', '_ironpython26_sys_version_parser', '_ironpython_sys_version_parser', '_java_getprop', '_libc_search', '_linux_distribution', '_lsb_release_version', '_mac_ver_xml', '_node', '_norm_version', '_parse_release_file', '_platform', '_platform_cache', '_pypy_sys_version_parser', '_release_filename', '_release_version', '_supported_dists', '_sys_version', '_sys_version_cache', '_sys_version_parser', '_syscmd_file', '_syscmd_uname', '_syscmd_ver', '_uname_cache', '_ver_output', '_ver_stages', 'architecture', 'collections', 'dist', 'java_ver', 'libc_ver', 'linux_distribution', 'mac_ver', 'machine', 'node', 'os', 'platform', 'popen', 'processor', 'python_branch', 'python_build', 'python_compiler', 'python_implementation', 'python_revision', 'python_version', 'python_version_tuple', 're', 'release', 'subprocess', 'sys', 'system', 'system_alias', 'uname', 'uname_result', 'version', 'warnings', 'win32_ver']\n",
      "3.7.15\n",
      "CPython\n"
     ]
    }
   ],
   "source": [
    "import platform\n",
    "\n",
    "# Use dir() function to inspect attributes\n",
    "platform_dir = dir(platform)\n",
    "print (platform_dir)\n",
    "\n",
    "# Run a few\n",
    "pv = platform.python_version()\n",
    "print(pv)\n",
    "pi = platform.python_implementation()\n",
    "print(pi)\n",
    "\n",
    "# Note this one is a global function, so can be run without importing platform\n",
    "# python_version()\n",
    "# However it seems on earlier Python versions, it's not..."
   ]
  },
  {
   "cell_type": "markdown",
   "metadata": {},
   "source": [
    "##### "
   ]
  }
 ],
 "metadata": {
  "kernelspec": {
   "display_name": "Python 3",
   "language": "python",
   "name": "python3"
  },
  "language_info": {
   "codemirror_mode": {
    "name": "ipython",
    "version": 3
   },
   "file_extension": ".py",
   "mimetype": "text/x-python",
   "name": "python",
   "nbconvert_exporter": "python",
   "pygments_lexer": "ipython3",
   "version": "3.7.15"
  },
  "orig_nbformat": 4
 },
 "nbformat": 4,
 "nbformat_minor": 2
}
