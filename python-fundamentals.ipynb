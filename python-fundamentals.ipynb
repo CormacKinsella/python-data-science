{
 "cells": [
  {
   "cell_type": "markdown",
   "metadata": {},
   "source": [
    "# Python fundamentals\n",
    "\n",
    "## Setting up the environment in Ubuntu\n",
    "\n",
    "### VSCode, Jupyter, and conda\n",
    "\n",
    "- We'll use the Python extension in VSCode, which includes Jupyter notebooks\n",
    "\n",
    "- Jupyter notebooks interprets files with the IPython notebook extension \".ipynb\", allowing markdown and code cells to be built up\n",
    "\n",
    "- For Python packages themselves, installing Anaconda is an option, but my preference is to use Miniconda and then build Conda environments for specific tasks. This keeps user control over the packages and versions, limits space usage, minimises software conflicts, and enables portability. It also teaches me more about what's going on (by solving issues!)\n",
    "\n",
    "- We'll set up a general \"Data science with Python\" conda environment, and add to it over time (and/or generate additional specialist environments)\n",
    "\n",
    "```\n",
    "conda env create -f python-data-science.yml\n",
    "conda activate python-data-science\n",
    "```\n",
    "\n",
    "- I initially added only python3, numpy, and pandas to the yml\n",
    "\n",
    "- With python3 installed, I then set the Jupyter kernel to point at python inside the conda env (using the VSCode interface)\n",
    "\n",
    "- Ran a hello world test (which failed), and as a result added the ipykernel package so that Jupyter can execute code `conda install -c conda-forge ipykernel`"
   ]
  },
  {
   "cell_type": "code",
   "execution_count": 24,
   "metadata": {},
   "outputs": [
    {
     "name": "stdout",
     "output_type": "stream",
     "text": [
      "hello world, I was in double quotes\n",
      "hello world, I was in single quotes\n"
     ]
    }
   ],
   "source": [
    "# Hello world test\n",
    "\n",
    "print (\"hello world, I was in double quotes\")\n",
    "\n",
    "# Note that quotation marks around strings can be single or double, no difference\n",
    "print ('hello world, I was in single quotes')"
   ]
  },
  {
   "cell_type": "code",
   "execution_count": 25,
   "metadata": {},
   "outputs": [
    {
     "data": {
      "text/plain": [
       "'3.11.4'"
      ]
     },
     "execution_count": 25,
     "metadata": {},
     "output_type": "execute_result"
    }
   ],
   "source": [
    "# Sanity check on which python version is being used by the interpreter\n",
    "\n",
    "from platform import python_version\n",
    "python_version()\n"
   ]
  },
  {
   "cell_type": "markdown",
   "metadata": {},
   "source": [
    "### Git repository set up\n",
    "\n",
    "```\n",
    "git init -b main\n",
    "git add README.md python-fundamentals.ipynb\n",
    "git co -m \"Initial commit\"\n",
    "gh repo create\n",
    "```"
   ]
  },
  {
   "cell_type": "markdown",
   "metadata": {},
   "source": [
    "### Add Jupyter HTML export functionality (for PDF, I'll use HTML print to PDF)\n",
    "\n",
    "- Attempted an HTML export, assuming we don't have all the packages: nbconvert was missing\n",
    "```\n",
    "conda install -c anaconda nbconvert\n",
    "```"
   ]
  },
  {
   "cell_type": "markdown",
   "metadata": {},
   "source": [
    "## Fundamentals of python 1. Background\n",
    "\n",
    "- Python is a high-level language (high abstraction from the machine, and machine specific commands)\n",
    "- Hence it's quicker to pickup: it uses natural language and focuses on readability\n",
    "- \"Batteries included language\" - i.e., large stdlib - or standard library (pre-written code modules, functions, classes, methods, tools - that come with the language). E.g., the module \"platform\" that we used above is from the stdlib\n",
    "- Follows rules of syntax, which will have an impact on how it runs, or if it runs, e.g. the following code works:"
   ]
  },
  {
   "cell_type": "code",
   "execution_count": 64,
   "metadata": {},
   "outputs": [
    {
     "name": "stdout",
     "output_type": "stream",
     "text": [
      "Total length: 24\n",
      "Current index value of i: 0 1-based position: 1\n",
      "Substring: The \n",
      "Current index value of i: 4 1-based position: 5\n",
      "Substring: gard\n",
      "Current index value of i: 8 1-based position: 9\n",
      "Substring: ens \n",
      "Current index value of i: 12 1-based position: 13\n",
      "Substring: are \n",
      "Current index value of i: 16 1-based position: 17\n",
      "Substring: wate\n",
      "Current index value of i: 20 1-based position: 21\n",
      "Substring: red!\n"
     ]
    }
   ],
   "source": [
    "# Make a string\n",
    "my_string = \"The gardens are watered!\"\n",
    "\n",
    "# Check the length:\n",
    "length = len(my_string)\n",
    "print ('Total length:', length)\n",
    "\n",
    "# Now make a basic for loop, start at index 0 to the end of the string (length). Move in steps of 4 and print i.\n",
    "# Out of interest, to actually look at the underlying letters at each i iteration, we can use slice notation.\n",
    "# [i:i+4] (non-inclusive of the last)\n",
    "\n",
    "for i in range(0,length,4):\n",
    "    print ('Current index value of i:', i, '1-based position:', i+1)\n",
    "    substring = my_string [i:i+4]\n",
    "    print (\"Substring:\", substring)\n",
    "\n",
    "# The last index printed is 20, which refers to position 21. \n",
    "# The next step of 4 would go to position 25, which does not exist.\n"
   ]
  },
  {
   "cell_type": "code",
   "execution_count": 65,
   "metadata": {},
   "outputs": [
    {
     "ename": "IndentationError",
     "evalue": "expected an indented block after 'for' statement on line 7 (793192203.py, line 8)",
     "output_type": "error",
     "traceback": [
      "\u001b[0;36m  Cell \u001b[0;32mIn[65], line 8\u001b[0;36m\u001b[0m\n\u001b[0;31m    print ('Current index value of i:', i, '1-based position:', i+1)\u001b[0m\n\u001b[0m    ^\u001b[0m\n\u001b[0;31mIndentationError\u001b[0m\u001b[0;31m:\u001b[0m expected an indented block after 'for' statement on line 7\n"
     ]
    }
   ],
   "source": [
    "# Whereas here it will not run - only due to lack of indentation:\n",
    "\n",
    "my_string = \"The gardens are watered!\"\n",
    "length = len(my_string)\n",
    "print ('Total length:', length)\n",
    "for i in range(0,length,4):\n",
    "print ('Current index value of i:', i, '1-based position:', i+1)"
   ]
  },
  {
   "cell_type": "markdown",
   "metadata": {},
   "source": [
    "## Fundamentals of python 2. Data types, basic operations, & variables\n",
    "\n",
    "- Below we'll see and work with basic data types (integers, bools, floats, strings)\n",
    "- Arithmetic operation syntax\n",
    "- Variables\n",
    "- Comparison operators (greater, less than, equal to, etc.)\n",
    "- Logical operators (and, or, not)\n",
    "- Control structures"
   ]
  },
  {
   "cell_type": "code",
   "execution_count": 88,
   "metadata": {},
   "outputs": [
    {
     "data": {
      "text/plain": [
       "18"
      ]
     },
     "execution_count": 88,
     "metadata": {},
     "output_type": "execute_result"
    }
   ],
   "source": [
    "# Basic operations with integers, can be run directly\n",
    "7+11"
   ]
  },
  {
   "cell_type": "code",
   "execution_count": 115,
   "metadata": {},
   "outputs": [
    {
     "name": "stdout",
     "output_type": "stream",
     "text": [
      "18\n",
      "4\n",
      "36\n",
      "1.0\n",
      "\n",
      "7\n",
      "gherkin\n",
      "7 gherkin\n",
      "\n",
      "1000\n",
      "\n",
      "0\n",
      "2\n",
      "\n",
      "My investment would be worth: 2593.7424601000025\n",
      "\n",
      "BMI: 24.049343594386603\n",
      "Return: 2593.7424601000025\n",
      "\n",
      "Integers will be added: 6\n",
      "Strings will be concatenated: Camel\n",
      "\n",
      "<class 'int'>\n",
      "<class 'str'>\n",
      "<class 'float'>\n",
      "<class 'bool'>\n",
      "\n"
     ]
    }
   ],
   "source": [
    "# Though in an interactive environment, I will only see the last output if I do multiple direct operations.\n",
    "# Use print to guarentee an output:\n",
    "\n",
    "7+1  # Output will not appear, as it is not the last. \n",
    "\n",
    "# Arithmetic operations\n",
    "\n",
    "print(7+11)\n",
    "print(5-1)\n",
    "print(6*6)\n",
    "print (10/10)\n",
    "print() # Output an empty line\n",
    "\n",
    "# Chain commands using semi-colons. Include within same print using comma. \n",
    "# Strings and integers can be combined\n",
    "\n",
    "print(7); print (\"gherkin\")\n",
    "print(7, \"gherkin\")\n",
    "print()\n",
    "\n",
    "# Base/exponent syntax\n",
    "\n",
    "print(10**3)\n",
    "print()\n",
    "\n",
    "# Modulo syntax - returns remainder of a division (left / right)\n",
    "\n",
    "print (6%6)\n",
    "print (6%4)\n",
    "print()\n",
    "\n",
    "# Compound investment on 1000 GBP, 10% return p/a, held for 10 years\n",
    "print (\"My investment would be worth:\", 1000*1.1**10)\n",
    "print ()\n",
    "\n",
    "# Working with variables\n",
    "height = 1.88\n",
    "weight = 85\n",
    "BMI = weight/ (height**2)\n",
    "print (\"BMI:\", BMI)\n",
    "savings = 1000\n",
    "return_rate = 1.1\n",
    "years = 10\n",
    "result = savings*return_rate**years\n",
    "print (\"Return:\", result)\n",
    "print ()\n",
    "\n",
    "# Above we've seen strings and integers\n",
    "# Type influences how operations work\n",
    "\n",
    "print (\"Integers will be added:\", 2+4)\n",
    "print (\"Strings will be concatenated:\", \"Cam\"+\"el\")\n",
    "print()\n",
    "\n",
    "# Do check type, use type()\n",
    "# Floats - real number with floating point (decimal)\n",
    "# Bools - yes/no, true/false, 1/0\n",
    "\n",
    "print(type(1))\n",
    "print(type(\"gherkin\"))\n",
    "print(type(1.782))\n",
    "print(type(True))\n",
    "print()"
   ]
  },
  {
   "cell_type": "code",
   "execution_count": 141,
   "metadata": {},
   "outputs": [
    {
     "name": "stdout",
     "output_type": "stream",
     "text": [
      "2.8\n",
      "0\n",
      "1\n",
      "\n",
      "3.1\n",
      "\n",
      "5.1415926\n",
      "\n",
      "False\n",
      "False\n",
      "True\n",
      "False\n",
      "True\n",
      "True\n",
      "True\n",
      "\n",
      "True\n",
      "False\n",
      "\n",
      "True\n",
      "False\n",
      "False\n"
     ]
    }
   ],
   "source": [
    "# Exploring addition behaviour with floats & bools\n",
    "\n",
    "print (1.1 + 1.7)\n",
    "print(False + False) # Two wrongs don't make a right\n",
    "print(True + False) # Got to take the high ground\n",
    "print ()\n",
    "\n",
    "# Some type mixing ok, but not others\n",
    "print (1.1+2)\n",
    "print ()\n",
    "\n",
    "# Type conversion is done using\n",
    "# str(), int(), float(), bool()\n",
    "pi_string = \"3.1415926\"\n",
    "print(float(pi_string) + 2)\n",
    "print()\n",
    "\n",
    "# Comparison operators - result will be a boolean\n",
    "\n",
    "print(2>5) # Greater than\n",
    "print(5<5) # Less than\n",
    "print(5<=5) # Less than or equal\n",
    "print(77>=567) # Greater than or equal\n",
    "print(10==10) # Equals\n",
    "print (True!=False) # Does not equal\n",
    "print ((10 * 10) > 99) # Include arithmetic\n",
    "print ()\n",
    "\n",
    "# On strings\n",
    "print (\"a\"<\"b\") # Alphabetically treated\n",
    "print (\"Python\" == \"python\") # Case sensitive\n",
    "print ()\n",
    "\n",
    "# Logical operators / boolean operators (and, or, not)\n",
    "y = 10\n",
    "x = 5\n",
    "z = 2\n",
    "print (y > x and x > z)\n",
    "print (x < z or x > y)\n",
    "print (not True) # not negates a bool"
   ]
  },
  {
   "cell_type": "code",
   "execution_count": 172,
   "metadata": {},
   "outputs": [
    {
     "name": "stdout",
     "output_type": "stream",
     "text": [
      "one\n",
      "two\n",
      "three\n",
      "0\n",
      "1\n",
      "2\n",
      "Limit reached\n",
      "Condition not met\n",
      "Hit\n"
     ]
    }
   ],
   "source": [
    "# Control structures\n",
    "\n",
    "# For loops\n",
    "\n",
    "for i in [\"one\", \"two\", \"three\"]:\n",
    "    print(i)\n",
    "\n",
    "# While loops\n",
    "\n",
    "counter = 0\n",
    "non_inclusive_limit = 3\n",
    "\n",
    "while counter < non_inclusive_limit:\n",
    "    print(counter)\n",
    "    counter += 1\n",
    "\n",
    "# Conditional statements: if\n",
    "\n",
    "if counter == 3:\n",
    "    print(\"Limit reached\") \n",
    "\n",
    "# Conditional statements: else\n",
    "\n",
    "if counter == 4:\n",
    "    print(\"Condition met\")\n",
    "else:\n",
    "    print(\"Condition not met\")\n",
    "\n",
    "# Conditional statements: elif\n",
    "\n",
    "if counter == 2:\n",
    "    print (\"Not hit\")\n",
    "elif counter == 3:\n",
    "    print (\"Hit\")\n"
   ]
  },
  {
   "cell_type": "markdown",
   "metadata": {},
   "source": [
    "### More on loop control / control flow\n",
    "\n",
    "- Break out of the looping once condition met (final loops won't be done)\n",
    "\n",
    "`break`\n",
    "\n",
    "- Skip remainder of current iteration\n",
    "\n",
    "`continue`\n",
    "\n",
    "- placeholder that does nothing (e.g., placeholder code) \n",
    "\n",
    "`pass`\n",
    "\n",
    "- exit function returning a value\n",
    "\n",
    "`return`"
   ]
  },
  {
   "cell_type": "markdown",
   "metadata": {},
   "source": [
    "## Fundamentals of python 3. Python data structures, containers\n",
    "\n",
    "### Data structure vs container background\n",
    "\n",
    "- Data structures define layout and relationship between data elements + operations that can be done on them\n",
    "- Quite general term, encompasses basic data types (e.g., integers) and complex ones (e.g., arrays)\n",
    "- Containers on the other hand refers to specific data structures that hold/organise multiple values/objects\n",
    "- These would be for grouping data coherently, e.g., lists, tuples, and dictionaries\n",
    "- Each has different operations, rules, and characteristics that make them suitable for different things"
   ]
  },
  {
   "cell_type": "markdown",
   "metadata": {},
   "source": [
    "### Data structures: Lists\n",
    "\n",
    "- ordered, mutable, redundant collections\n",
    "- can contain multiple data types (e.g., integers, booleans, floats, or strings)\n",
    "- defined by square brackets []\n",
    "- being ordered, each element has a fixed position (defined by a 0-based numerical index)"
   ]
  },
  {
   "cell_type": "code",
   "execution_count": 26,
   "metadata": {},
   "outputs": [
    {
     "name": "stdout",
     "output_type": "stream",
     "text": [
      "['banana', 'apple', 'orange', 'orange']\n"
     ]
    }
   ],
   "source": [
    "# List with four string elements, two redundant, stored in a variable\n",
    "\n",
    "fruit_list = ['banana', 'apple', 'orange', 'orange']\n",
    "print(fruit_list)"
   ]
  },
  {
   "cell_type": "code",
   "execution_count": 27,
   "metadata": {},
   "outputs": [
    {
     "name": "stdout",
     "output_type": "stream",
     "text": [
      "banana\n",
      "apple\n",
      "orange\n",
      "orange\n"
     ]
    }
   ],
   "source": [
    "# Access index positions (0-based)\n",
    "\n",
    "print(fruit_list[0])\n",
    "print(fruit_list[1])\n",
    "print(fruit_list[2])\n",
    "print(fruit_list[3])"
   ]
  },
  {
   "cell_type": "code",
   "execution_count": 28,
   "metadata": {},
   "outputs": [
    {
     "name": "stdout",
     "output_type": "stream",
     "text": [
      "['banana', 'apple', 'grape', 'orange']\n",
      "['banana', 'apple', 'orange', 'orange']\n"
     ]
    }
   ],
   "source": [
    "# List elements are mutable\n",
    "\n",
    "# First let's make a copy of the list variable using the python method \".copy\"\n",
    "\n",
    "# We could do:\n",
    "\n",
    "# modified_fruit_list = fruit_list\n",
    "\n",
    "# but it would mean modified_fruit_list will refer to the original variable, so both will be edited when one is.\n",
    "\n",
    "# So we make a new one with the method\n",
    "\n",
    "modified_fruit_list = fruit_list.copy()\n",
    "\n",
    "# Now we can edit that one without touching the first\n",
    "\n",
    "modified_fruit_list[2] = 'grape'\n",
    "\n",
    "print(modified_fruit_list)\n",
    "print(fruit_list)"
   ]
  },
  {
   "cell_type": "markdown",
   "metadata": {},
   "source": [
    "### Data structures: Tuples\n",
    "- Similar to lists, but immutable. Still ordered and allowing duplicates.\n",
    "- Defined by parentheses\n",
    "- For representing data that is related and should never be modified"
   ]
  },
  {
   "cell_type": "code",
   "execution_count": 76,
   "metadata": {},
   "outputs": [
    {
     "name": "stdout",
     "output_type": "stream",
     "text": [
      "(1, 2, 3, 4, 5)\n",
      "2\n",
      "1\n"
     ]
    },
    {
     "ename": "TypeError",
     "evalue": "'tuple' object does not support item assignment",
     "output_type": "error",
     "traceback": [
      "\u001b[0;31m---------------------------------------------------------------------------\u001b[0m",
      "\u001b[0;31mTypeError\u001b[0m                                 Traceback (most recent call last)",
      "Cell \u001b[0;32mIn[76], line 12\u001b[0m\n\u001b[1;32m      9\u001b[0m \u001b[39mprint\u001b[39m (first_element)\n\u001b[1;32m     11\u001b[0m \u001b[39m# Immutable\u001b[39;00m\n\u001b[0;32m---> 12\u001b[0m my_tuple[\u001b[39m1\u001b[39;49m] \u001b[39m=\u001b[39m \u001b[39m\"\u001b[39m\u001b[39mgherkin\u001b[39m\u001b[39m\"\u001b[39m\n",
      "\u001b[0;31mTypeError\u001b[0m: 'tuple' object does not support item assignment"
     ]
    }
   ],
   "source": [
    "my_tuple = (1,2,3,4,5)\n",
    "print (my_tuple)\n",
    "\n",
    "# Ordered\n",
    "print (my_tuple[1])\n",
    "\n",
    "# Variable setting\n",
    "first_element = my_tuple[0]\n",
    "print (first_element)\n",
    "\n",
    "# Immutable\n",
    "my_tuple[1] = \"gherkin\""
   ]
  },
  {
   "cell_type": "markdown",
   "metadata": {},
   "source": [
    "### Data structures: Dictionaries\n"
   ]
  },
  {
   "cell_type": "markdown",
   "metadata": {},
   "source": [
    "### Data structures: Sets\n",
    "\n",
    "- Unordered, unique elements (duplicates will be auto-removed)\n",
    "- Curley brackets {} or set()\n",
    "- useful for membership testing and removing duplicates"
   ]
  },
  {
   "cell_type": "code",
   "execution_count": 68,
   "metadata": {},
   "outputs": [
    {
     "name": "stdout",
     "output_type": "stream",
     "text": [
      "[1, 2, 2, 3, 4, 4, 5, 5]\n",
      "{1, 2, 3, 4, 5}\n"
     ]
    }
   ],
   "source": [
    "my_list = [1, 2, 2, 3, 4, 4, 5, 5]\n",
    "my_set = set(my_list)\n",
    "\n",
    "print(my_list)\n",
    "print(my_set)"
   ]
  },
  {
   "cell_type": "markdown",
   "metadata": {},
   "source": [
    "### Data structures: Strings\n"
   ]
  },
  {
   "cell_type": "markdown",
   "metadata": {},
   "source": [
    "### Data structures: Arrays\n"
   ]
  },
  {
   "cell_type": "markdown",
   "metadata": {},
   "source": [
    "### Data structures: Queues"
   ]
  },
  {
   "cell_type": "markdown",
   "metadata": {},
   "source": [
    "### Data structures: Others to mention not in stdlib\n",
    "\n",
    "- Stacks\n",
    "- Linked lists\n",
    "- Trees\n",
    "- Graphs\n",
    "\n"
   ]
  },
  {
   "cell_type": "markdown",
   "metadata": {},
   "source": [
    "## Fundamentals of python 3. Functions and modules\n",
    "input() function\n",
    "functions in general"
   ]
  },
  {
   "cell_type": "markdown",
   "metadata": {},
   "source": [
    "## Fundamentals of python 4. Object-Oriented Programming (OOP)\n",
    "\n"
   ]
  },
  {
   "cell_type": "markdown",
   "metadata": {},
   "source": [
    "## Fundamentals of python 5. File Handling\n",
    "\n",
    "- for and while loops on files"
   ]
  },
  {
   "cell_type": "markdown",
   "metadata": {},
   "source": [
    "## Fundamentals of python 6. Exception Handling\n",
    "\n",
    "- try\n",
    "- except\n",
    "- finally"
   ]
  },
  {
   "cell_type": "markdown",
   "metadata": {},
   "source": [
    "## Fundamentals of python 7. Debugging and Testing"
   ]
  },
  {
   "cell_type": "markdown",
   "metadata": {},
   "source": [
    "## Fundamentals of python 8. Basic Algorithms and Logic"
   ]
  },
  {
   "cell_type": "markdown",
   "metadata": {},
   "source": [
    "## Fundamentals of python 9. Standard library"
   ]
  },
  {
   "cell_type": "markdown",
   "metadata": {},
   "source": [
    "## Somewhere: Python methods & attributes\n",
    "\n",
    "- We've used a Python method before, \".copy\": `modified_fruit_list = fruit_list.copy()`\n",
    "\n",
    "- You can use the built-in dir() function to get a list of attributes and methods available for an object, including modules, classes, and instances.\n",
    "\n",
    "- So below we'll look at that using platform, the module we imported from previously"
   ]
  },
  {
   "cell_type": "code",
   "execution_count": 67,
   "metadata": {},
   "outputs": [
    {
     "name": "stdout",
     "output_type": "stream",
     "text": [
      "['_Processor', '_WIN32_CLIENT_RELEASES', '_WIN32_SERVER_RELEASES', '__builtins__', '__cached__', '__copyright__', '__doc__', '__file__', '__loader__', '__name__', '__package__', '__spec__', '__version__', '_comparable_version', '_component_re', '_default_architecture', '_follow_symlinks', '_get_machine_win32', '_ironpython26_sys_version_parser', '_ironpython_sys_version_parser', '_java_getprop', '_libc_search', '_mac_ver_xml', '_node', '_norm_version', '_os_release_cache', '_os_release_candidates', '_os_release_line', '_os_release_unescape', '_parse_os_release', '_platform', '_platform_cache', '_pypy_sys_version_parser', '_sys_version', '_sys_version_cache', '_sys_version_parser', '_syscmd_file', '_syscmd_ver', '_uname_cache', '_unknown_as_blank', '_ver_output', '_ver_stages', 'architecture', 'collections', 'freedesktop_os_release', 'functools', 'itertools', 'java_ver', 'libc_ver', 'mac_ver', 'machine', 'node', 'os', 'platform', 'processor', 'python_branch', 'python_build', 'python_compiler', 'python_implementation', 'python_revision', 'python_version', 'python_version_tuple', 're', 'release', 'sys', 'system', 'system_alias', 'uname', 'uname_result', 'version', 'win32_edition', 'win32_is_iot', 'win32_ver']\n",
      "3.11.4\n",
      "CPython\n"
     ]
    },
    {
     "data": {
      "text/plain": [
       "'3.11.4'"
      ]
     },
     "execution_count": 67,
     "metadata": {},
     "output_type": "execute_result"
    }
   ],
   "source": [
    "import platform\n",
    "\n",
    "# Use dir() function to inspect attributes\n",
    "platform_dir = dir(platform)\n",
    "print (platform_dir)\n",
    "\n",
    "# Run a few\n",
    "pv = platform.python_version()\n",
    "print(pv)\n",
    "pi = platform.python_implementation()\n",
    "print(pi)\n",
    "\n",
    "# Note this one is a global function, so can be run without importing platform\n",
    "python_version()"
   ]
  },
  {
   "cell_type": "markdown",
   "metadata": {},
   "source": [
    "##### "
   ]
  }
 ],
 "metadata": {
  "kernelspec": {
   "display_name": "Python 3",
   "language": "python",
   "name": "python3"
  },
  "language_info": {
   "codemirror_mode": {
    "name": "ipython",
    "version": 3
   },
   "file_extension": ".py",
   "mimetype": "text/x-python",
   "name": "python",
   "nbconvert_exporter": "python",
   "pygments_lexer": "ipython3",
   "version": "3.11.4"
  },
  "orig_nbformat": 4
 },
 "nbformat": 4,
 "nbformat_minor": 2
}
