{
 "cells": [
  {
   "cell_type": "markdown",
   "metadata": {},
   "source": [
    "# Python fundamentals\n",
    "\n",
    "## Setting up the environment in Ubuntu\n",
    "\n",
    "### VSCode, Jupyter, and conda\n",
    "\n",
    "- We'll use the Python extension in VSCode, which includes Jupyter notebooks\n",
    "\n",
    "- Jupyter notebooks interprets files with the IPython notebook extension \".ipynb\", allowing markdown and code cells to be built up\n",
    "\n",
    "- For Python packages themselves, installing Anaconda is an option, but my preference is to use Miniconda and then build Conda environments for specific tasks. This keeps user control over the packages and versions, limits space usage, minimises software conflicts, and enables portability. It also teaches me more about what's going on (by solving issues!)\n",
    "\n",
    "- We'll set up a general \"Data science with Python\" conda environment, and add to it over time (and/or generate additional specialist environments)\n",
    "\n",
    "```\n",
    "conda env create -f python-data-science.yml\n",
    "conda activate python-data-science\n",
    "```\n",
    "\n",
    "- I initially added only python3, numpy, and pandas.\n",
    "\n",
    "- With python3 installed, I set the Jupyter kernel to point at python inside the conda env (using the VSCode interface)\n",
    "\n",
    "- Ran a hello world test (which failed), and as a result added the ipykernel package so that Jupyter can execute code `conda install -c conda-forge ipykernel`"
   ]
  },
  {
   "cell_type": "code",
   "execution_count": 2,
   "metadata": {},
   "outputs": [
    {
     "name": "stdout",
     "output_type": "stream",
     "text": [
      "hello world\n"
     ]
    },
    {
     "data": {
      "text/plain": [
       "'3.11.4'"
      ]
     },
     "execution_count": 2,
     "metadata": {},
     "output_type": "execute_result"
    }
   ],
   "source": [
    "# Hello world\n",
    "\n",
    "print (\"hello world\")\n",
    "\n",
    "# Sanity check on which python version is being used by the interpreterImport a python package to check the python version\n",
    "\n",
    "from platform import python_version\n",
    "python_version()"
   ]
  },
  {
   "cell_type": "markdown",
   "metadata": {},
   "source": [
    "### The Git repository\n",
    "```\n",
    "git init -b main\n",
    "git add README.md python-fundamentals.ipynb\n",
    "git co -m \"Initial commit\"\n",
    "gh repo create\n",
    "```"
   ]
  },
  {
   "cell_type": "markdown",
   "metadata": {},
   "source": [
    "### Jupyter HTML export (for PDF, I'll use HTML print to PDF)"
   ]
  },
  {
   "cell_type": "markdown",
   "metadata": {},
   "source": [
    "##### "
   ]
  }
 ],
 "metadata": {
  "kernelspec": {
   "display_name": "Python 3",
   "language": "python",
   "name": "python3"
  },
  "language_info": {
   "codemirror_mode": {
    "name": "ipython",
    "version": 3
   },
   "file_extension": ".py",
   "mimetype": "text/x-python",
   "name": "python",
   "nbconvert_exporter": "python",
   "pygments_lexer": "ipython3",
   "version": "3.11.4"
  },
  "orig_nbformat": 4
 },
 "nbformat": 4,
 "nbformat_minor": 2
}
