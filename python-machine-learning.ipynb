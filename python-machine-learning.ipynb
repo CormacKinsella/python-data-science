{
 "cells": [
  {
   "cell_type": "markdown",
   "metadata": {},
   "source": [
    "# Python for machine learning\n",
    "\n",
    "## Fundamentals of machine learning\n",
    "\n",
    "- ML is everywhere in the modern world\n",
    "- Machines can do repetitive tasks quickly\n",
    "- We traditionally give machines input + instructions -> output\n",
    "- 1959: Arthur Samuel - can machines infer logic instead of being given instructions?\n",
    "- Could we give them just input data, and output of previously finished tasks, and let them figure out the best instructions to give the same output based on the data provided? E.g., is a linear model most appropriate?\n",
    "- Once trained, we just give it input data\n",
    "- This is supervised learning -> applications include spam filtering, image analysis, and text prediction\n",
    "- Unsupervised learning -> we just give it input data, and ask it to find patterns -> e.g., movie recommendations on Netflix\n",
    "- Reinforcement learning -> positive or negative feedback, to learn the optimal path to take given the environment\n",
    "- ML is focused on prediction...\n",
    "\n",
    "### Terminology\n",
    "\n",
    "- AI is a catch-all term -> all ML is AI, not all AI is ML\n",
    "- ML encompasses reinforcement learning, unsupervised, and supervised learning\n",
    "\n",
    "#### Deep learning\n",
    "- broad term in itself, relying on a history of work for later reading\n",
    "- can be supervised, semi-supervised, or unsupervised\n",
    "- based on \"artificial neural networks\", or \"neural nets\"\n",
    "\n",
    "#### Unsupervised learning\n",
    "- the process of building descriptive models\n",
    "- used to summarise and group data in new ways\n",
    "- useful to uncover patterns that might be informative for business purposes\n",
    "- e.g., these people have x behaviour, these have y -> offer each this\n",
    "\n",
    "##### Supervised learning \n",
    "- training a predictive model\n",
    "- assign label to unlabelled data, based on previously labelled data (historical data)\n",
    "- input = independent variable, output = dependent variable. Together, these make training data.\n",
    "- Example: previous performance of some gamblers, with preferences, cash amount (independent variables) + profit or loss for the business (dependent variables). Train the model on this.\n",
    "- Assess performance of the model -> give it only input data, hiding the outcome. What does it predict? \n",
    "- This gives the predictive accuracy, e.g. 99%. \n",
    "- A model is \"learning\" if it's performance at a task improves with experience\n",
    "- From this we can take E - experience, T - class of task, & P - performance measure"
   ]
  },
  {
   "cell_type": "markdown",
   "metadata": {},
   "source": [
    "# generative artificial neural networks"
   ]
  }
 ],
 "metadata": {
  "language_info": {
   "name": "python"
  },
  "orig_nbformat": 4
 },
 "nbformat": 4,
 "nbformat_minor": 2
}
