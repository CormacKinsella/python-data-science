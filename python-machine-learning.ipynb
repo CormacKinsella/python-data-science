{
 "cells": [
  {
   "cell_type": "markdown",
   "metadata": {},
   "source": [
    "# Python for machine learning\n",
    "\n",
    "## Fundamentals of machine learning\n",
    "\n",
    "- ML is everywhere in the modern world\n",
    "- Machines can do repetitive tasks quickly\n",
    "- We traditionally give machines input + instructions -> output\n",
    "- 1959: Arthur Samuel - can machines infer logic instead of being given instructions?\n",
    "- Could we give them just input data, and output from previously finished tasks, and let them figure out the best instructions to give the same output based on the data provided? E.g., is a linear model most appropriate?\n",
    "- Once a model is trained, we could just give it input data\n",
    "- This is supervised learning -> applications include spam filtering, image analysis, and text prediction\n",
    "- Unsupervised learning -> we just give it input data, and ask it to find patterns -> e.g., movie recommendations on Netflix\n",
    "- Reinforcement learning -> positive or negative feedback, to learn the optimal path to take given the environment\n",
    "\n",
    "### Terminology\n",
    "\n",
    "- AI is a catch-all term -> all ML is AI, not all AI is ML\n",
    "- ML encompasses unsupervised, supervised, and reinforcement learning paradigms (the three core categories of ML)\n",
    "- A further term within machine learning is deep learning -> all deep learning is ML, not all DL is ML\n",
    "\n",
    "#### Unsupervised learning\n",
    "- the process of building descriptive models\n",
    "- identify patterns in unlabelled data\n",
    "- used to summarise and group data in new ways\n",
    "- useful to uncover patterns that might be informative for business purposes\n",
    "- e.g., these people have x behaviour, these have y -> offer x this, and y this\n",
    "\n",
    "#### Supervised learning \n",
    "- training a predictive model\n",
    "- learn patterns from previously labelled data, and then:\n",
    "- assign label to unlabelled data, based on the historical data\n",
    "- input = independent variable, output = dependent variable. Together, these make training data.\n",
    "- Example: previous performance of some gamblers, with preferences, cash amount (independent variables) + profit or loss for the business (dependent variables). Train the model on this.\n",
    "- Assess performance of the model -> give it only input data, hiding the outcome. What does it predict? \n",
    "- This gives the predictive accuracy, e.g. 99%. \n",
    "- A model is \"learning\" if it's performance at a task improves with experience\n",
    "- From this we can take E - experience, T - class of task, & P - performance measure (predictive accuracy)\n",
    "\n",
    "#### Reinforcement learning\n",
    "- learning to make decisions on the basis of interactions\n",
    "- Objective 1: find unknown solutions to existing problems (e.g. a chess computer)\n",
    "- Objective 2: Find solutions to unpredicted problems\n",
    "- Two entities in RL. Agent & environment.\n",
    "- Agent interacts with env by acting (its objective is to maximise rewards to itself)\n",
    "- Environment provides feedback to agent (state - describes impact of previous action, and possible next actions + reward - the numeric reward)\n",
    "- Exploitation = choosing the current action that maximises the reward\n",
    "- Exploration = choosing other actions that do not necessarily appear to maximise the reward (choosing action without considering reward)\n",
    "- The exploitation vs exploration reward problem. The simplest agent model will always choose to maximise score, rather than explore other lower scoring avenues that may be longer term higher scoring. A balanced approach is likely more successful. \n",
    "\n",
    "\n",
    "#### Deep learning\n",
    "- deep because the algorithm network has many layers\n",
    "- broad term in itself, a form of ML based on the human brain/animal nervous system\n",
    "- feature learning or representation learning, which can be supervised, semi-supervised, or unsupervised\n",
    "- progressive extraction of higher-level features from raw input\n",
    "- can use \"artificial neural networks\", or \"neural nets\", algorithms with inter-connected nodes\n",
    "- edges have associated weights, and the network defines rules for data to be passed from an input layer to the output layer\n"
   ]
  },
  {
   "cell_type": "markdown",
   "metadata": {},
   "source": [
    "# Steps to the ML process\n",
    "\n",
    "### 1. Data collection\n",
    "\n",
    "- unlabelled data (unsupervised)\n",
    "- labelled historical data (supervised)\n",
    "- data that helps the agent learn which actions yield most reward (reinforcement)\n",
    "\n",
    "Considerations: data accuracy (i.e., is it really \"ground truth data\"), relevance (is it important data for the model aim?), quantity (some models need little, some need a lot), variability (do we capture the full data range?), ethics (informed consent, biases in collection leading to biases in policy, etc.)"
   ]
  },
  {
   "cell_type": "code",
   "execution_count": null,
   "metadata": {},
   "outputs": [],
   "source": [
    "# Importing data in pandas\n",
    "\n",
    "import pandas as pd\n",
    "\n"
   ]
  },
  {
   "cell_type": "markdown",
   "metadata": {},
   "source": [
    "### 2. Data exploration\n",
    "\n",
    "- understand data: describe and visualise it\n",
    "- cleaning, checking for outliers, etc.\n",
    "\n",
    "### 3. Data preparation (up to here, = 80% of the time!)\n",
    "\n",
    "- Resolve problems (missing data, noisy data, outlier, class imbalance)\n",
    "- structuring it to be easy to use (normalise, reduction etc.)\n",
    "\n",
    "### 4. Modeling\n",
    "\n",
    "- apply a machine learning approach to the data\n",
    "\n",
    "### 5. Evaluation\n",
    "\n",
    "- assess how well it worked, e.g. supervised, are labels or values correct for unseen data?\n",
    "- unsupervised: a good model is one that makes sense\n",
    "- iterate back to the modeling step\n",
    "\n",
    "### 6. Actionable insight\n",
    "\n",
    "- identify a course of action based on the model\n",
    "- do we deploy the model?\n",
    "- what do we do with the insights from the model?\n"
   ]
  },
  {
   "cell_type": "markdown",
   "metadata": {},
   "source": [
    "# Artificial neural networks\n",
    "\n",
    "\n",
    "\n",
    "# Generative artificial neural networks\n",
    "\n"
   ]
  },
  {
   "cell_type": "markdown",
   "metadata": {},
   "source": [
    "- SciKit-Learn\n",
    "- Pytorch\n",
    "- TensorFlow\n",
    "- matplotlib\n",
    "- Pandas/NumPy/SciPy"
   ]
  }
 ],
 "metadata": {
  "kernelspec": {
   "display_name": "python-data-science",
   "language": "python",
   "name": "python3"
  },
  "language_info": {
   "name": "python",
   "version": "3.7.15"
  },
  "orig_nbformat": 4
 },
 "nbformat": 4,
 "nbformat_minor": 2
}
