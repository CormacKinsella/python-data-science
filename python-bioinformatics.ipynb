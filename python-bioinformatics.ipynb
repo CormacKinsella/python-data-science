{
 "cells": [
  {
   "cell_type": "markdown",
   "metadata": {},
   "source": [
    "\n",
    "# Using Python with bioinformatics packages\n",
    "\n",
    "## Python versus Bash for simple toolchains\n",
    "\n",
    "- In Bash/Shell it's straightforward to build toolchains using pipes, and software found in your $PATH"
   ]
  },
  {
   "cell_type": "code",
   "execution_count": 18,
   "metadata": {
    "vscode": {
     "languageId": "shellscript"
    }
   },
   "outputs": [
    {
     "name": "stdout",
     "output_type": "stream",
     "text": [
      "Hi\n",
      "4\n",
      "<class 'IPython.utils.text.SList'>\n",
      "<class 'str'>\n",
      "1\n"
     ]
    }
   ],
   "source": [
    "# This environment runs on a Python interpreter, so it doesn't run shell scripts in quite the same way\n",
    "# But prefixing with \"!\" allows shell commands to be used, e.g.:\n",
    "!echo \"Hi\"\n",
    "\n",
    "# Bash/Shell has the pipe character \"|\", which allows toolchains to be built up. Programs in $PATH can be directly brought in, e.g.:\n",
    "!echo -n \"1234\" | wc -m   # Count characters from echo command. -n suppresses the behaviour to also add a newline, ensuring accurate character count\n",
    "\n",
    "# Side note, we can integrate this with python, though it doesn't create a Python data type directly\n",
    "var = !echo \"1234\" # Python mixed with Shell\n",
    "print (type(var)) # Not a regular python data type, an Slist\n",
    "str_var = str(var[0]) # Converts first element of Slist (1234) into a python string\n",
    "print(type(str_var)) # Evaluates as a python string\n",
    "print(str_var[0]) # Works as expected"
   ]
  },
  {
   "cell_type": "markdown",
   "metadata": {},
   "source": [
    "- In Python, instead of pipes we might use the \"Subprocess\" module\n",
    "- This allows external commands to be run"
   ]
  },
  {
   "cell_type": "code",
   "execution_count": null,
   "metadata": {
    "vscode": {
     "languageId": "shellscript"
    }
   },
   "outputs": [],
   "source": []
  },
  {
   "cell_type": "markdown",
   "metadata": {},
   "source": [
    "Software packages built for direct python integration (e.g., Pybedtools)"
   ]
  },
  {
   "cell_type": "markdown",
   "metadata": {},
   "source": [
    "\n",
    "## Biopython\n",
    "\n",
    "- Biopython is a \n",
    "\n",
    "- The Conda environment contains a Biopython install (the command used was: `conda install -c conda-forge biopython`)\n"
   ]
  }
 ],
 "metadata": {
  "kernelspec": {
   "display_name": "python-data-science",
   "language": "python",
   "name": "python3"
  },
  "language_info": {
   "codemirror_mode": {
    "name": "ipython",
    "version": 3
   },
   "file_extension": ".py",
   "mimetype": "text/x-python",
   "name": "python",
   "nbconvert_exporter": "python",
   "pygments_lexer": "ipython3",
   "version": "3.11.4"
  },
  "orig_nbformat": 4
 },
 "nbformat": 4,
 "nbformat_minor": 2
}
