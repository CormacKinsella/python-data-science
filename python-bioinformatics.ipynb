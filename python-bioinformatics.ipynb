{
 "cells": [
  {
   "cell_type": "markdown",
   "metadata": {},
   "source": [
    "# Using Python for bioinformatics, and with bioinformatics packages\n",
    "\n",
    "## Python versus Bash for building toolchains/pipelines\n",
    "\n",
    "### The Bash approach\n",
    "\n",
    "- In Bash/Shell it's straightforward to build toolchains using pipes, and software found in your $PATH"
   ]
  },
  {
   "cell_type": "code",
   "execution_count": 18,
   "metadata": {
    "vscode": {
     "languageId": "shellscript"
    }
   },
   "outputs": [
    {
     "name": "stdout",
     "output_type": "stream",
     "text": [
      "Hi\n",
      "4\n",
      "<class 'IPython.utils.text.SList'>\n",
      "<class 'str'>\n",
      "1\n"
     ]
    }
   ],
   "source": [
    "# This environment runs on a Python interpreter, so it doesn't directly run shell commands.\n",
    "# But since it uses an IPython interpreter, prefixing with \"!\" allows shell commands to be used, e.g.:\n",
    "!echo \"Hi\"\n",
    "\n",
    "# Toolchains in Bash\n",
    "# Bash/Shell has the pipe character \"|\", which allows toolchains to be built up. Programs in $PATH can be directly brought in, e.g.:\n",
    "!echo -n \"1234\" | wc -m   # Count characters from echo command. -n suppresses the behaviour to also add a newline, ensuring accurate character count\n",
    "\n",
    "# Side note, we can integrate this with python, though it doesn't create a Python data type directly\n",
    "var = !echo \"1234\" # Python mixed with Shell\n",
    "print (type(var)) # Not a regular python data type, an Slist\n",
    "str_var = str(var[0]) # Converts first element of Slist (1234) into a python string\n",
    "print(type(str_var)) # Evaluates as a python string\n",
    "print(str_var[0]) # Works as expected"
   ]
  },
  {
   "cell_type": "markdown",
   "metadata": {},
   "source": [
    "### The Python equivalent\n",
    "\n",
    "- In Python, instead of pipes we might use the \"subprocess\" module:\n",
    "- This allows external commands to be run, but can be pretty wordy compared to a simple: \"echo -n \"1234\" | wc -l\"\n",
    "- So in some pipeline development, it may make sense to be picking Shell rather than Python, bringing in Python when you need to do more advanced manipulations\n",
    "- Keep in mind that in the workflow paradigm Nextflow, you can integrate them. Each process has a Shebang for setting the interpreter (Shell by default)\n",
    "- Alternatively, you can use a Shell process, and call Python as an external programme from there, pointing at a script file"
   ]
  },
  {
   "cell_type": "code",
   "execution_count": 21,
   "metadata": {},
   "outputs": [
    {
     "name": "stdout",
     "output_type": "stream",
     "text": [
      "4\n"
     ]
    }
   ],
   "source": [
    "# The subprocess module\n",
    " \n",
    "import subprocess\n",
    "\n",
    "# Defines command 1, which would direct stdout into a pipe\n",
    "process1 = subprocess.Popen(['echo', '-n', '1234'], stdout=subprocess.PIPE)\n",
    "\n",
    "# Defines second command, defines input from pipe, and output back to pipe\n",
    "process2 = subprocess.Popen(['wc', '-c'], stdin=subprocess.PIPE, stdout=subprocess.PIPE)\n",
    "\n",
    "# Actually runs the commands\n",
    "output1, _ = process1.communicate() # Annotate me!\n",
    "output2, _ = process2.communicate(input=output1) # Annotate me!\n",
    "\n",
    "# Final output\n",
    "out = output2.decode().strip() # Annotate me!\n",
    "print(out)\n"
   ]
  },
  {
   "cell_type": "markdown",
   "metadata": {},
   "source": [
    "### A Python alternative\n",
    "\n",
    "- sh package"
   ]
  },
  {
   "cell_type": "markdown",
   "metadata": {},
   "source": [
    "## Bioinformatics packages for Python \n",
    "\n",
    "Software packages built for direct python integration (e.g., Pybedtools)"
   ]
  },
  {
   "cell_type": "markdown",
   "metadata": {},
   "source": [
    "\n",
    "## Biopython\n",
    "\n",
    "- Biopython is a \n",
    "\n",
    "- The Conda environment contains a Biopython install (the command used was: `conda install -c conda-forge biopython`)\n"
   ]
  }
 ],
 "metadata": {
  "kernelspec": {
   "display_name": "python-data-science",
   "language": "python",
   "name": "python3"
  },
  "language_info": {
   "codemirror_mode": {
    "name": "ipython",
    "version": 3
   },
   "file_extension": ".py",
   "mimetype": "text/x-python",
   "name": "python",
   "nbconvert_exporter": "python",
   "pygments_lexer": "ipython3",
   "version": "3.11.4"
  },
  "orig_nbformat": 4
 },
 "nbformat": 4,
 "nbformat_minor": 2
}
